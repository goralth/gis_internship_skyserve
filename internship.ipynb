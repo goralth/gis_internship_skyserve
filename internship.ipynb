{
 "cells": [
  {
   "cell_type": "markdown",
   "id": "92de205a",
   "metadata": {},
   "source": [
    "A csv file containing the ship movement data is given. The data contains unique ship id (mmid), timestamp, latitude and longitude.\n",
    "\n",
    "The task given is to find probable collision events\n",
    "\n",
    "Exploratory data analysis and plotting the data onto world map."
   ]
  },
  {
   "cell_type": "code",
   "execution_count": null,
   "id": "2b212e44",
   "metadata": {},
   "outputs": [],
   "source": [
    "#importing the libraries  and defining the haversine distance function\n",
    "import numpy as np\n",
    "import geopandas as gd\n",
    "import pandas as pd\n",
    "from geodatasets import get_path\n",
    "import matplotlib.pyplot as plt\n",
    "from sklearn.neighbors import BallTree\n",
    "from sklearn.cluster import DBSCAN\n",
    "from shapely.geometry import LineString, Point\n",
    "from math import radians, cos, sin, asin, sqrt"
   ]
  },
  {
   "cell_type": "markdown",
   "id": "aa14dfdf",
   "metadata": {},
   "source": [
    "Haversine distance is the distance between two points on a sphere.\n",
    "\n",
    "$d=2R\\sin^{-1}\\left(\\sqrt{(\\sin^2\\left(\\frac{\\phi_2-\\phi_1}{2}\\right)\\cos\\phi_1\\cos\\phi_2\\sin^2\\left(\\frac{\\lambda_2-\\lambda_1}{2}\\right)}\\right)$\n",
    "\n",
    "where $R$ is the radius of the sphere, $\\phi_{1,2}$ are latitudes and $\\lambda_{1,2}$ are the longitudes"
   ]
  },
  {
   "cell_type": "code",
   "execution_count": null,
   "id": "cd8b70da",
   "metadata": {},
   "outputs": [],
   "source": [
    "def haversine_np(lon1, lat1, lon2, lat2):\n",
    "    \"\"\"\n",
    "    Calculate the great circle distance between two points \n",
    "    on the earth (specified in decimal degrees)\n",
    "    \"\"\"\n",
    "    # convert decimal degrees to radians \n",
    "    lon1, lat1, lon2, lat2 = map(np.radians, [lon1, lat1, lon2, lat2])\n",
    "\n",
    "    # haversine formula \n",
    "    dlon = lon2 - lon1[:,None] \n",
    "    dlat = lat2 - lat1[:,None] \n",
    "    a = np.sin(dlat/2)**2 + np.cos(lat1[:,None]) * np.cos(lat2) * np.sin(dlon/2)**2\n",
    "    #print(\"a=\",a)\n",
    "    c = 2 * np.arcsin(np.sqrt(a)) \n",
    "    r = 6371 # Radius of earth: 6371 kilometers\n",
    "    return c * r"
   ]
  },
  {
   "cell_type": "markdown",
   "id": "e208e443",
   "metadata": {},
   "source": [
    "Reading the data into pandas dataframe for exploratory analysis"
   ]
  },
  {
   "cell_type": "code",
   "execution_count": null,
   "id": "faaf2093",
   "metadata": {},
   "outputs": [],
   "source": [
    "df = pd.read_csv(\"d:\\sample_data.csv\")\n",
    "print(df.info())\n",
    "print(df.head())\n",
    "#converting go geodataframe\n",
    "gdf = gd.GeoDataFrame(df, geometry=gd.points_from_xy(df.lon, df.lat), crs=\"EPSG:4326\")\n",
    "#getting the world map\n",
    "world = gd.read_file(get_path(\"naturalearth.land\"))\n"
   ]
  },
  {
   "cell_type": "code",
   "execution_count": null,
   "id": "420c01c0",
   "metadata": {},
   "outputs": [],
   "source": [
    "#plotting the world map as background\n",
    "ax = world.plot(color=\"white\", edgecolor=\"black\")\n",
    "# plotting the geodatframe.\n",
    "gdf.plot(ax=ax, color=\"red\")\n",
    "\n"
   ]
  },
  {
   "cell_type": "markdown",
   "id": "5cacf055",
   "metadata": {},
   "source": [
    "Each point in the plot above is the location of ship covering all times. There are multiple points overlapping. "
   ]
  },
  {
   "cell_type": "code",
   "execution_count": null,
   "id": "8fa8567e",
   "metadata": {},
   "outputs": [],
   "source": [
    "#convert timestamp into datetime format and get time difference.\n",
    "\n",
    "df['timestamp']=pd.to_datetime(df['timestamp'])\n",
    "start_time=df['timestamp'].min()\n",
    "\n",
    "df['timediff']=(df['timestamp']-start_time).astype(\"timedelta64[s]\")/60   #in minutes\n"
   ]
  },
  {
   "cell_type": "code",
   "execution_count": null,
   "id": "028ba276",
   "metadata": {},
   "outputs": [],
   "source": [
    "df['geometry']=df.apply(lambda x: Point(x['lon'],x['lat']),axis=1)\n"
   ]
  },
  {
   "cell_type": "code",
   "execution_count": null,
   "id": "72abd0a6",
   "metadata": {},
   "outputs": [],
   "source": [
    "s_df = df.sort_values(by=[\"mmsi\",\"timestamp\"],ascending=[True,False])\n"
   ]
  },
  {
   "cell_type": "code",
   "execution_count": null,
   "id": "c0b1a77d",
   "metadata": {},
   "outputs": [],
   "source": [
    "linedf = s_df.groupby(\"mmsi\", as_index=False).agg({\"geometry\": lambda x: LineString(x)})"
   ]
  },
  {
   "cell_type": "code",
   "execution_count": null,
   "id": "9e51d34e",
   "metadata": {
    "scrolled": true
   },
   "outputs": [],
   "source": [
    "#plotting the movement of each ship as line\n",
    "linedf = gd.GeoDataFrame(data=linedf, geometry=linedf.geometry, crs=4326)\n",
    "ax = world.plot(color=\"white\", edgecolor=\"black\")\n",
    "\n",
    "linedf.plot(ax=ax, column=\"mmsi\", cmap=\"jet\")\n",
    "plt.show()\n"
   ]
  },
  {
   "cell_type": "markdown",
   "id": "91fa6fcf",
   "metadata": {},
   "source": [
    "The plot above is a line representation of ship-data. each color represent one line, resulting in a timeseries of different ships.\n",
    "\n",
    "Potential collision is when two different ships come in close proximity within a small time window. To analyze this, first we will separate each ship's own timeline. Then, within a small window around each timestamp, we will analyze whether there is any other ship within a cutoff distance. \n",
    "\n",
    "We have taken time window of $\\pm 1$ minute, and window of $\\pm 0.01^{\\circ}$ around latitude and longitude. We further refined it with a distance of $\\pm 1$ kilometer."
   ]
  },
  {
   "cell_type": "code",
   "execution_count": null,
   "id": "e1fe1ef4",
   "metadata": {},
   "outputs": [],
   "source": [
    "#get number of ships\n",
    "mmsi_a=df['mmsi'].unique()\n"
   ]
  },
  {
   "cell_type": "code",
   "execution_count": null,
   "id": "743f1334",
   "metadata": {},
   "outputs": [],
   "source": [
    "print(mmsi_a)\n"
   ]
  },
  {
   "cell_type": "code",
   "execution_count": null,
   "id": "958bf61f",
   "metadata": {
    "scrolled": false
   },
   "outputs": [],
   "source": [
    "df_final=pd.DataFrame()   #This is the dataframe to collate all the possible collision events\n",
    "for i in mmsi_a:\n",
    "    #Getting the timeseries for ship i\n",
    "    timeseries_df=df[df['mmsi']==i]\n",
    "    \n",
    "    timeseries=timeseries_df['timediff'].unique()\n",
    "    \n",
    "    #Getting data for all ships excluding ship i\n",
    "    df_new=df[df['mmsi']!=i]\n",
    "    \n",
    "    for j in timeseries:\n",
    "\n",
    "        #Recording the lat lon for ship i at time instance j. This will be useful for distance calculation\n",
    "        orig_lat=pd.to_numeric(timeseries_df[timeseries_df['timediff']==j]['lat'].unique())\n",
    "        orig_lon=pd.to_numeric(timeseries_df[timeseries_df['timediff']==j]['lon'].unique())\n",
    "        \n",
    "        #Filtering the data frame based on time window\n",
    "        df_new4=df_new[abs(df_new['timediff']-j)<1]\n",
    "        #Further filtering based on lat-lon\n",
    "        df_new3=df_new4[abs(df_new4['lat']-orig_lat)<0.01]\n",
    "        df_new2=df_new3[abs(df_new3['lon']-orig_lon)<0.01]\n",
    "        \n",
    "        if df_new2.empty:\n",
    "            continue\n",
    "        \n",
    "        d=haversine_np(orig_lon,orig_lat, pd.to_numeric(df_new2['lon']).values,pd.to_numeric(df_new2['lat']).values).ravel()\n",
    "        \n",
    "        #Adding distance column, and final filter based on distance window\n",
    "        \n",
    "        df_new2.insert(6,'dist',d)\n",
    "        df_new5=df_new2[df_new2['dist']<1]\n",
    "        #df_new5['mmsi_1']=i   #The collision event is between ship i and ship mmid in df_new5\n",
    "        df_new5.insert(7,'mmsi_1',i)\n",
    "        #Appending the entry to the df_final dataframe\n",
    "        if not(df_new5.empty):\n",
    "            df_final=pd.concat([df_final,df_new5],ignore_index=True)\n",
    " \n",
    "        else:\n",
    "           continue\n",
    "\n",
    "        \n",
    "    \n",
    "    "
   ]
  },
  {
   "cell_type": "code",
   "execution_count": null,
   "id": "5f333384",
   "metadata": {},
   "outputs": [],
   "source": [
    "print(df_final.head())"
   ]
  },
  {
   "cell_type": "code",
   "execution_count": null,
   "id": "caa4bff1",
   "metadata": {},
   "outputs": [],
   "source": [
    "df_final.info()\n"
   ]
  },
  {
   "cell_type": "markdown",
   "id": "541a0915",
   "metadata": {},
   "source": [
    "The number of potential collision events can be obtained from the info of the dataframe. For the conditions set-up here, there are 1276 collision events. The plot below overlays the events as points on the lines of each ships."
   ]
  },
  {
   "cell_type": "code",
   "execution_count": null,
   "id": "1ef6727a",
   "metadata": {},
   "outputs": [],
   "source": [
    "gdf = gd.GeoDataFrame(df_final, geometry=gd.points_from_xy(df_final.lon, df_final.lat), crs=\"EPSG:4326\")\n",
    "ax = world.plot(color=\"white\", edgecolor=\"black\")\n",
    "linedf.plot(ax=ax, column=\"mmsi\", cmap=\"hsv\")\n",
    "gdf.plot(ax=ax, color=\"red\")"
   ]
  },
  {
   "cell_type": "code",
   "execution_count": null,
   "id": "7111c7b7",
   "metadata": {},
   "outputs": [],
   "source": []
  }
 ],
 "metadata": {
  "kernelspec": {
   "display_name": "Python 3 (ipykernel)",
   "language": "python",
   "name": "python3"
  },
  "language_info": {
   "codemirror_mode": {
    "name": "ipython",
    "version": 3
   },
   "file_extension": ".py",
   "mimetype": "text/x-python",
   "name": "python",
   "nbconvert_exporter": "python",
   "pygments_lexer": "ipython3",
   "version": "3.9.19"
  }
 },
 "nbformat": 4,
 "nbformat_minor": 5
}
